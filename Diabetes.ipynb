{
 "cells": [
  {
   "cell_type": "code",
   "execution_count": 1,
   "metadata": {},
   "outputs": [
    {
     "data": {
      "text/html": [
       "<div>\n",
       "<style scoped>\n",
       "    .dataframe tbody tr th:only-of-type {\n",
       "        vertical-align: middle;\n",
       "    }\n",
       "\n",
       "    .dataframe tbody tr th {\n",
       "        vertical-align: top;\n",
       "    }\n",
       "\n",
       "    .dataframe thead th {\n",
       "        text-align: right;\n",
       "    }\n",
       "</style>\n",
       "<table border=\"1\" class=\"dataframe\">\n",
       "  <thead>\n",
       "    <tr style=\"text-align: right;\">\n",
       "      <th></th>\n",
       "      <th>Pregnancies</th>\n",
       "      <th>Glucose</th>\n",
       "      <th>BloodPressure</th>\n",
       "      <th>SkinThickness</th>\n",
       "      <th>Insulin</th>\n",
       "      <th>BMI</th>\n",
       "      <th>DiabetesPedigreeFunction</th>\n",
       "      <th>Age</th>\n",
       "    </tr>\n",
       "  </thead>\n",
       "  <tbody>\n",
       "    <tr>\n",
       "      <td>0</td>\n",
       "      <td>6</td>\n",
       "      <td>148</td>\n",
       "      <td>72</td>\n",
       "      <td>35</td>\n",
       "      <td>0</td>\n",
       "      <td>33.6</td>\n",
       "      <td>0.627</td>\n",
       "      <td>50</td>\n",
       "    </tr>\n",
       "    <tr>\n",
       "      <td>1</td>\n",
       "      <td>1</td>\n",
       "      <td>85</td>\n",
       "      <td>66</td>\n",
       "      <td>29</td>\n",
       "      <td>0</td>\n",
       "      <td>26.6</td>\n",
       "      <td>0.351</td>\n",
       "      <td>31</td>\n",
       "    </tr>\n",
       "    <tr>\n",
       "      <td>2</td>\n",
       "      <td>8</td>\n",
       "      <td>183</td>\n",
       "      <td>64</td>\n",
       "      <td>0</td>\n",
       "      <td>0</td>\n",
       "      <td>23.3</td>\n",
       "      <td>0.672</td>\n",
       "      <td>32</td>\n",
       "    </tr>\n",
       "    <tr>\n",
       "      <td>3</td>\n",
       "      <td>1</td>\n",
       "      <td>89</td>\n",
       "      <td>66</td>\n",
       "      <td>23</td>\n",
       "      <td>94</td>\n",
       "      <td>28.1</td>\n",
       "      <td>0.167</td>\n",
       "      <td>21</td>\n",
       "    </tr>\n",
       "    <tr>\n",
       "      <td>4</td>\n",
       "      <td>0</td>\n",
       "      <td>137</td>\n",
       "      <td>40</td>\n",
       "      <td>35</td>\n",
       "      <td>168</td>\n",
       "      <td>43.1</td>\n",
       "      <td>2.288</td>\n",
       "      <td>33</td>\n",
       "    </tr>\n",
       "    <tr>\n",
       "      <td>...</td>\n",
       "      <td>...</td>\n",
       "      <td>...</td>\n",
       "      <td>...</td>\n",
       "      <td>...</td>\n",
       "      <td>...</td>\n",
       "      <td>...</td>\n",
       "      <td>...</td>\n",
       "      <td>...</td>\n",
       "    </tr>\n",
       "    <tr>\n",
       "      <td>763</td>\n",
       "      <td>10</td>\n",
       "      <td>101</td>\n",
       "      <td>76</td>\n",
       "      <td>48</td>\n",
       "      <td>180</td>\n",
       "      <td>32.9</td>\n",
       "      <td>0.171</td>\n",
       "      <td>63</td>\n",
       "    </tr>\n",
       "    <tr>\n",
       "      <td>764</td>\n",
       "      <td>2</td>\n",
       "      <td>122</td>\n",
       "      <td>70</td>\n",
       "      <td>27</td>\n",
       "      <td>0</td>\n",
       "      <td>36.8</td>\n",
       "      <td>0.340</td>\n",
       "      <td>27</td>\n",
       "    </tr>\n",
       "    <tr>\n",
       "      <td>765</td>\n",
       "      <td>5</td>\n",
       "      <td>121</td>\n",
       "      <td>72</td>\n",
       "      <td>23</td>\n",
       "      <td>112</td>\n",
       "      <td>26.2</td>\n",
       "      <td>0.245</td>\n",
       "      <td>30</td>\n",
       "    </tr>\n",
       "    <tr>\n",
       "      <td>766</td>\n",
       "      <td>1</td>\n",
       "      <td>126</td>\n",
       "      <td>60</td>\n",
       "      <td>0</td>\n",
       "      <td>0</td>\n",
       "      <td>30.1</td>\n",
       "      <td>0.349</td>\n",
       "      <td>47</td>\n",
       "    </tr>\n",
       "    <tr>\n",
       "      <td>767</td>\n",
       "      <td>1</td>\n",
       "      <td>93</td>\n",
       "      <td>70</td>\n",
       "      <td>31</td>\n",
       "      <td>0</td>\n",
       "      <td>30.4</td>\n",
       "      <td>0.315</td>\n",
       "      <td>23</td>\n",
       "    </tr>\n",
       "  </tbody>\n",
       "</table>\n",
       "<p>768 rows × 8 columns</p>\n",
       "</div>"
      ],
      "text/plain": [
       "     Pregnancies  Glucose  BloodPressure  SkinThickness  Insulin   BMI  \\\n",
       "0              6      148             72             35        0  33.6   \n",
       "1              1       85             66             29        0  26.6   \n",
       "2              8      183             64              0        0  23.3   \n",
       "3              1       89             66             23       94  28.1   \n",
       "4              0      137             40             35      168  43.1   \n",
       "..           ...      ...            ...            ...      ...   ...   \n",
       "763           10      101             76             48      180  32.9   \n",
       "764            2      122             70             27        0  36.8   \n",
       "765            5      121             72             23      112  26.2   \n",
       "766            1      126             60              0        0  30.1   \n",
       "767            1       93             70             31        0  30.4   \n",
       "\n",
       "     DiabetesPedigreeFunction  Age  \n",
       "0                       0.627   50  \n",
       "1                       0.351   31  \n",
       "2                       0.672   32  \n",
       "3                       0.167   21  \n",
       "4                       2.288   33  \n",
       "..                        ...  ...  \n",
       "763                     0.171   63  \n",
       "764                     0.340   27  \n",
       "765                     0.245   30  \n",
       "766                     0.349   47  \n",
       "767                     0.315   23  \n",
       "\n",
       "[768 rows x 8 columns]"
      ]
     },
     "execution_count": 1,
     "metadata": {},
     "output_type": "execute_result"
    }
   ],
   "source": [
    "import pandas as pd\n",
    "\n",
    "diabetes_df=pd.read_csv('diabetes.csv')\n",
    "\n",
    "y=diabetes_df['Outcome']\n",
    "\n",
    "diabetes_df.drop(columns='Outcome', inplace=True)\n",
    "\n",
    "diabetes_df"
   ]
  },
  {
   "cell_type": "code",
   "execution_count": 2,
   "metadata": {},
   "outputs": [
    {
     "data": {
      "text/plain": [
       "Index(['Pregnancies', 'Glucose', 'BloodPressure', 'SkinThickness', 'Insulin',\n",
       "       'BMI', 'DiabetesPedigreeFunction', 'Age'],\n",
       "      dtype='object')"
      ]
     },
     "execution_count": 2,
     "metadata": {},
     "output_type": "execute_result"
    }
   ],
   "source": [
    "diabetes_df.shape  # To check shape \n",
    "\n",
    "diabetes_df.isnull().sum() # To check is there any null values exits \n",
    "\n",
    "diabetes_df.columns  # To check columns "
   ]
  },
  {
   "cell_type": "code",
   "execution_count": 3,
   "metadata": {},
   "outputs": [
    {
     "data": {
      "text/html": [
       "<div>\n",
       "<style scoped>\n",
       "    .dataframe tbody tr th:only-of-type {\n",
       "        vertical-align: middle;\n",
       "    }\n",
       "\n",
       "    .dataframe tbody tr th {\n",
       "        vertical-align: top;\n",
       "    }\n",
       "\n",
       "    .dataframe thead th {\n",
       "        text-align: right;\n",
       "    }\n",
       "</style>\n",
       "<table border=\"1\" class=\"dataframe\">\n",
       "  <thead>\n",
       "    <tr style=\"text-align: right;\">\n",
       "      <th></th>\n",
       "      <th>Pregnancies</th>\n",
       "      <th>Glucose</th>\n",
       "      <th>BloodPressure</th>\n",
       "      <th>SkinThickness</th>\n",
       "      <th>Insulin</th>\n",
       "      <th>BMI</th>\n",
       "      <th>DiabetesPedigreeFunction</th>\n",
       "      <th>Age</th>\n",
       "    </tr>\n",
       "  </thead>\n",
       "  <tbody>\n",
       "    <tr>\n",
       "      <td>60</td>\n",
       "      <td>2</td>\n",
       "      <td>84</td>\n",
       "      <td>0</td>\n",
       "      <td>0</td>\n",
       "      <td>0</td>\n",
       "      <td>0.0</td>\n",
       "      <td>0.304</td>\n",
       "      <td>21</td>\n",
       "    </tr>\n",
       "    <tr>\n",
       "      <td>618</td>\n",
       "      <td>9</td>\n",
       "      <td>112</td>\n",
       "      <td>82</td>\n",
       "      <td>24</td>\n",
       "      <td>0</td>\n",
       "      <td>28.2</td>\n",
       "      <td>1.282</td>\n",
       "      <td>50</td>\n",
       "    </tr>\n",
       "    <tr>\n",
       "      <td>346</td>\n",
       "      <td>1</td>\n",
       "      <td>139</td>\n",
       "      <td>46</td>\n",
       "      <td>19</td>\n",
       "      <td>83</td>\n",
       "      <td>28.7</td>\n",
       "      <td>0.654</td>\n",
       "      <td>22</td>\n",
       "    </tr>\n",
       "    <tr>\n",
       "      <td>294</td>\n",
       "      <td>0</td>\n",
       "      <td>161</td>\n",
       "      <td>50</td>\n",
       "      <td>0</td>\n",
       "      <td>0</td>\n",
       "      <td>21.9</td>\n",
       "      <td>0.254</td>\n",
       "      <td>65</td>\n",
       "    </tr>\n",
       "    <tr>\n",
       "      <td>231</td>\n",
       "      <td>6</td>\n",
       "      <td>134</td>\n",
       "      <td>80</td>\n",
       "      <td>37</td>\n",
       "      <td>370</td>\n",
       "      <td>46.2</td>\n",
       "      <td>0.238</td>\n",
       "      <td>46</td>\n",
       "    </tr>\n",
       "    <tr>\n",
       "      <td>...</td>\n",
       "      <td>...</td>\n",
       "      <td>...</td>\n",
       "      <td>...</td>\n",
       "      <td>...</td>\n",
       "      <td>...</td>\n",
       "      <td>...</td>\n",
       "      <td>...</td>\n",
       "      <td>...</td>\n",
       "    </tr>\n",
       "    <tr>\n",
       "      <td>71</td>\n",
       "      <td>5</td>\n",
       "      <td>139</td>\n",
       "      <td>64</td>\n",
       "      <td>35</td>\n",
       "      <td>140</td>\n",
       "      <td>28.6</td>\n",
       "      <td>0.411</td>\n",
       "      <td>26</td>\n",
       "    </tr>\n",
       "    <tr>\n",
       "      <td>106</td>\n",
       "      <td>1</td>\n",
       "      <td>96</td>\n",
       "      <td>122</td>\n",
       "      <td>0</td>\n",
       "      <td>0</td>\n",
       "      <td>22.4</td>\n",
       "      <td>0.207</td>\n",
       "      <td>27</td>\n",
       "    </tr>\n",
       "    <tr>\n",
       "      <td>270</td>\n",
       "      <td>10</td>\n",
       "      <td>101</td>\n",
       "      <td>86</td>\n",
       "      <td>37</td>\n",
       "      <td>0</td>\n",
       "      <td>45.6</td>\n",
       "      <td>1.136</td>\n",
       "      <td>38</td>\n",
       "    </tr>\n",
       "    <tr>\n",
       "      <td>435</td>\n",
       "      <td>0</td>\n",
       "      <td>141</td>\n",
       "      <td>0</td>\n",
       "      <td>0</td>\n",
       "      <td>0</td>\n",
       "      <td>42.4</td>\n",
       "      <td>0.205</td>\n",
       "      <td>29</td>\n",
       "    </tr>\n",
       "    <tr>\n",
       "      <td>102</td>\n",
       "      <td>0</td>\n",
       "      <td>125</td>\n",
       "      <td>96</td>\n",
       "      <td>0</td>\n",
       "      <td>0</td>\n",
       "      <td>22.5</td>\n",
       "      <td>0.262</td>\n",
       "      <td>21</td>\n",
       "    </tr>\n",
       "  </tbody>\n",
       "</table>\n",
       "<p>614 rows × 8 columns</p>\n",
       "</div>"
      ],
      "text/plain": [
       "     Pregnancies  Glucose  BloodPressure  SkinThickness  Insulin   BMI  \\\n",
       "60             2       84              0              0        0   0.0   \n",
       "618            9      112             82             24        0  28.2   \n",
       "346            1      139             46             19       83  28.7   \n",
       "294            0      161             50              0        0  21.9   \n",
       "231            6      134             80             37      370  46.2   \n",
       "..           ...      ...            ...            ...      ...   ...   \n",
       "71             5      139             64             35      140  28.6   \n",
       "106            1       96            122              0        0  22.4   \n",
       "270           10      101             86             37        0  45.6   \n",
       "435            0      141              0              0        0  42.4   \n",
       "102            0      125             96              0        0  22.5   \n",
       "\n",
       "     DiabetesPedigreeFunction  Age  \n",
       "60                      0.304   21  \n",
       "618                     1.282   50  \n",
       "346                     0.654   22  \n",
       "294                     0.254   65  \n",
       "231                     0.238   46  \n",
       "..                        ...  ...  \n",
       "71                      0.411   26  \n",
       "106                     0.207   27  \n",
       "270                     1.136   38  \n",
       "435                     0.205   29  \n",
       "102                     0.262   21  \n",
       "\n",
       "[614 rows x 8 columns]"
      ]
     },
     "execution_count": 3,
     "metadata": {},
     "output_type": "execute_result"
    }
   ],
   "source": [
    "# sci-kit learn\n",
    "\n",
    "from sklearn.model_selection import train_test_split\n",
    "\n",
    "X_train,X_test,y_train,y_test=train_test_split(diabetes_df,y,test_size=0.2,random_state=42)\n",
    "\n",
    "X_train"
   ]
  },
  {
   "cell_type": "code",
   "execution_count": 4,
   "metadata": {},
   "outputs": [],
   "source": [
    "num_cols=[col for col in X_train.columns if X_train[col].dtype=='int64'or \n",
    "                                            X_train[col].dtype=='float64']\n",
    "cat_cols=[col for col in X_train.columns if X_train[col].dtype=='object']"
   ]
  },
  {
   "cell_type": "code",
   "execution_count": 5,
   "metadata": {},
   "outputs": [
    {
     "name": "stderr",
     "output_type": "stream",
     "text": [
      "D:\\New folder\\lib\\site-packages\\pandas\\core\\generic.py:6287: SettingWithCopyWarning: \n",
      "A value is trying to be set on a copy of a slice from a DataFrame\n",
      "\n",
      "See the caveats in the documentation: http://pandas.pydata.org/pandas-docs/stable/user_guide/indexing.html#returning-a-view-versus-a-copy\n",
      "  self._update_inplace(new_data)\n"
     ]
    }
   ],
   "source": [
    "for col in num_cols:\n",
    "    X_train[col].fillna(X_train[col].mean(),inplace=True)\n",
    "    X_test[col].fillna(X_train[col].mean(),inplace=True)"
   ]
  },
  {
   "cell_type": "code",
   "execution_count": 6,
   "metadata": {},
   "outputs": [],
   "source": [
    "for col in cat_cols:\n",
    "    X_train[col].fillna(X_train[col].mode()[0],inplace=True)\n",
    "    X_test[col].fillna(X_train[col].mode()[0],inplace=True)"
   ]
  },
  {
   "cell_type": "code",
   "execution_count": 7,
   "metadata": {},
   "outputs": [
    {
     "name": "stdout",
     "output_type": "stream",
     "text": [
      "(614, 8) (154, 8) (614,) (154,)\n"
     ]
    }
   ],
   "source": [
    "print(X_train.shape,X_test.shape,y_train.shape,y_test.shape)"
   ]
  },
  {
   "cell_type": "code",
   "execution_count": 8,
   "metadata": {},
   "outputs": [
    {
     "name": "stderr",
     "output_type": "stream",
     "text": [
      "D:\\New folder\\lib\\site-packages\\sklearn\\linear_model\\logistic.py:432: FutureWarning: Default solver will be changed to 'lbfgs' in 0.22. Specify a solver to silence this warning.\n",
      "  FutureWarning)\n"
     ]
    },
    {
     "data": {
      "text/plain": [
       "array([0, 0, 0, 0, 0, 0, 0, 1, 1, 1, 0, 1, 0, 0, 0, 0, 0, 0, 1, 0, 0, 0,\n",
       "       1, 0, 1, 1, 0, 0, 0, 0, 1, 1, 1, 1, 0, 1, 1, 0, 1, 1, 0, 1, 0, 0,\n",
       "       0, 0, 1, 0, 0, 1, 0, 1, 1, 0, 0, 0, 1, 0, 0, 1, 1, 0, 0, 0, 0, 0,\n",
       "       0, 1, 0, 1, 1, 0, 0, 0, 0, 0, 0, 0, 0, 0, 1, 0, 0, 0, 0, 1, 1, 0,\n",
       "       0, 0, 0, 0, 0, 1, 1, 1, 0, 0, 1, 0, 1, 0, 1, 0, 1, 0, 0, 1, 0, 0,\n",
       "       0, 0, 0, 1, 0, 0, 1, 0, 0, 1, 0, 0, 0, 0, 0, 0, 0, 1, 1, 1, 1, 1,\n",
       "       0, 0, 1, 0, 0, 1, 1, 0, 0, 0, 0, 0, 0, 0, 0, 0, 0, 1, 0, 0, 0, 0],\n",
       "      dtype=int64)"
      ]
     },
     "execution_count": 8,
     "metadata": {},
     "output_type": "execute_result"
    }
   ],
   "source": [
    "from sklearn.linear_model import LogisticRegression\n",
    "\n",
    "logreg=LogisticRegression()\n",
    "\n",
    "logreg.fit(X_train,y_train) # Train the model\n",
    "\n",
    "y_pred=logreg.predict(X_test) # Predicting the test data\n",
    "\n",
    "y_pred\n"
   ]
  },
  {
   "cell_type": "code",
   "execution_count": 9,
   "metadata": {},
   "outputs": [
    {
     "name": "stdout",
     "output_type": "stream",
     "text": [
      "Precision-Score 0.68\n",
      "Recall Score 0.6181818181818182\n",
      "F1-Score 0.6476190476190475\n"
     ]
    }
   ],
   "source": [
    "from sklearn.metrics import confusion_matrix,precision_score,recall_score,f1_score,roc_curve,roc_auc_score\n",
    "\n",
    "confusion_matrix(y_test,y_pred)\n",
    "print('Precision-Score',precision_score(y_test,y_pred))\n",
    "print('Recall Score',recall_score(y_test,y_pred))\n",
    "print('F1-Score',f1_score(y_test,y_pred))"
   ]
  },
  {
   "cell_type": "code",
   "execution_count": 10,
   "metadata": {},
   "outputs": [
    {
     "data": {
      "text/plain": [
       "array([0.33576123, 0.21921205, 0.17703808, 0.22869413, 0.42773141,\n",
       "       0.41690942, 0.05372138, 0.69545252, 0.51470707, 0.66418461,\n",
       "       0.32347708, 0.78073686, 0.40860076, 0.31621296, 0.14626464,\n",
       "       0.42209492, 0.17542526, 0.13434339, 0.87323427, 0.49929155,\n",
       "       0.24995769, 0.11554633, 0.51695371, 0.14962059, 0.51770126,\n",
       "       0.7884748 , 0.2106065 , 0.07079396, 0.23597387, 0.16329469,\n",
       "       0.78440163, 0.74628872, 0.68444647, 0.83672836, 0.45972627,\n",
       "       0.6322659 , 0.90344954, 0.23102036, 0.50219822, 0.74155205,\n",
       "       0.13637735, 0.55823727, 0.49573295, 0.38612207, 0.06283139,\n",
       "       0.48734327, 0.55219789, 0.25481581, 0.3930456 , 0.86739465,\n",
       "       0.1059662 , 0.58946395, 0.72829743, 0.29321429, 0.17503379,\n",
       "       0.08551531, 0.69186512, 0.04981802, 0.39097686, 0.69251947,\n",
       "       0.6593557 , 0.34754729, 0.25043356, 0.31538822, 0.10604053,\n",
       "       0.49374583, 0.10350067, 0.54240905, 0.07927893, 0.65400143,\n",
       "       0.64343928, 0.10689141, 0.25316688, 0.13602852, 0.16649816,\n",
       "       0.36799972, 0.20692163, 0.21680768, 0.1926222 , 0.2319966 ,\n",
       "       0.62538227, 0.1960935 , 0.11100362, 0.31257524, 0.292452  ,\n",
       "       0.75436404, 0.77533546, 0.33686328, 0.17821754, 0.14596202,\n",
       "       0.12221421, 0.24080931, 0.03906085, 0.6733545 , 0.51044855,\n",
       "       0.52527267, 0.43534671, 0.17600777, 0.60045661, 0.12654324,\n",
       "       0.60353301, 0.08655271, 0.66797099, 0.45810655, 0.57220564,\n",
       "       0.22679541, 0.33761566, 0.65204696, 0.16001686, 0.47076959,\n",
       "       0.17056162, 0.34011724, 0.12706013, 0.60754165, 0.21832759,\n",
       "       0.35800061, 0.71265802, 0.27250182, 0.12237823, 0.69664262,\n",
       "       0.12200069, 0.2961639 , 0.29240499, 0.13903279, 0.33296854,\n",
       "       0.41767383, 0.20722203, 0.79971399, 0.95086882, 0.58957388,\n",
       "       0.69287488, 0.78877182, 0.15982342, 0.43885337, 0.71208293,\n",
       "       0.16233647, 0.2129606 , 0.71312661, 0.70432738, 0.04276866,\n",
       "       0.15942377, 0.09278608, 0.25375263, 0.40888592, 0.17459958,\n",
       "       0.30470178, 0.19208398, 0.06383385, 0.37990231, 0.66266511,\n",
       "       0.17792564, 0.44728119, 0.29662617, 0.24599097])"
      ]
     },
     "execution_count": 10,
     "metadata": {},
     "output_type": "execute_result"
    }
   ],
   "source": [
    "logreg.predict_proba(X_test)[::,1]"
   ]
  },
  {
   "cell_type": "code",
   "execution_count": 11,
   "metadata": {},
   "outputs": [
    {
     "data": {
      "text/plain": [
       "<matplotlib.legend.Legend at 0x147366bbfc8>"
      ]
     },
     "execution_count": 11,
     "metadata": {},
     "output_type": "execute_result"
    }
   ],
   "source": [
    "import matplotlib.pyplot as plt\n",
    "\n",
    "logregpred_probab=logreg.predict_proba(X_test)[::,1]\n",
    "\n",
    "fpr,tpr,thresholds=roc_curve(y_test,logregpred_probab)\n",
    "\n",
    "\n",
    "auc = roc_auc_score(y_test, logregpred_probab)\n",
    "\n",
    "plt.plot(fpr,tpr,label='auc='+str(auc))\n",
    "plt.xlabel('False Positive Rate')\n",
    "plt.ylabel('True Positive Rate')\n",
    "plt.title('AUC-ROC Curve')\n",
    "\n",
    "plt.legend(loc=8)"
   ]
  },
  {
   "cell_type": "code",
   "execution_count": 12,
   "metadata": {},
   "outputs": [
    {
     "data": {
      "text/plain": [
       "(array([0.        , 0.        , 0.        , 0.01010101, 0.01010101,\n",
       "        0.02020202, 0.02020202, 0.04040404, 0.04040404, 0.05050505,\n",
       "        0.05050505, 0.06060606, 0.06060606, 0.07070707, 0.07070707,\n",
       "        0.08080808, 0.08080808, 0.09090909, 0.09090909, 0.1010101 ,\n",
       "        0.1010101 , 0.16161616, 0.16161616, 0.18181818, 0.18181818,\n",
       "        0.21212121, 0.21212121, 0.23232323, 0.23232323, 0.26262626,\n",
       "        0.26262626, 0.28282828, 0.28282828, 0.34343434, 0.34343434,\n",
       "        0.36363636, 0.36363636, 0.37373737, 0.37373737, 0.39393939,\n",
       "        0.39393939, 0.4040404 , 0.4040404 , 0.41414141, 0.41414141,\n",
       "        0.49494949, 0.49494949, 0.50505051, 0.50505051, 0.55555556,\n",
       "        0.55555556, 0.56565657, 0.56565657, 0.57575758, 0.57575758,\n",
       "        0.58585859, 0.58585859, 0.6969697 , 0.6969697 , 0.76767677,\n",
       "        0.76767677, 1.        ]),\n",
       " array([0.        , 0.01818182, 0.05454545, 0.05454545, 0.14545455,\n",
       "        0.14545455, 0.30909091, 0.30909091, 0.34545455, 0.34545455,\n",
       "        0.4       , 0.4       , 0.47272727, 0.47272727, 0.52727273,\n",
       "        0.52727273, 0.54545455, 0.54545455, 0.58181818, 0.58181818,\n",
       "        0.61818182, 0.61818182, 0.63636364, 0.63636364, 0.67272727,\n",
       "        0.67272727, 0.69090909, 0.69090909, 0.70909091, 0.70909091,\n",
       "        0.72727273, 0.72727273, 0.74545455, 0.74545455, 0.76363636,\n",
       "        0.76363636, 0.78181818, 0.78181818, 0.8       , 0.8       ,\n",
       "        0.81818182, 0.81818182, 0.83636364, 0.83636364, 0.85454545,\n",
       "        0.85454545, 0.87272727, 0.87272727, 0.89090909, 0.89090909,\n",
       "        0.90909091, 0.90909091, 0.92727273, 0.92727273, 0.94545455,\n",
       "        0.94545455, 0.96363636, 0.96363636, 0.98181818, 0.98181818,\n",
       "        1.        , 1.        ]),\n",
       " array([1.95086882, 0.95086882, 0.87323427, 0.86739465, 0.78440163,\n",
       "        0.78073686, 0.70432738, 0.69545252, 0.69251947, 0.69186512,\n",
       "        0.66797099, 0.66418461, 0.65204696, 0.64343928, 0.60754165,\n",
       "        0.60353301, 0.60045661, 0.58957388, 0.57220564, 0.55823727,\n",
       "        0.54240905, 0.50219822, 0.49929155, 0.49374583, 0.47076959,\n",
       "        0.44728119, 0.43885337, 0.42773141, 0.42209492, 0.40888592,\n",
       "        0.40860076, 0.39097686, 0.38612207, 0.33761566, 0.33686328,\n",
       "        0.33296854, 0.32347708, 0.31621296, 0.31538822, 0.30470178,\n",
       "        0.29662617, 0.2961639 , 0.29321429, 0.292452  , 0.29240499,\n",
       "        0.24080931, 0.23597387, 0.2319966 , 0.23102036, 0.21680768,\n",
       "        0.2129606 , 0.2106065 , 0.20722203, 0.20692163, 0.1960935 ,\n",
       "        0.1926222 , 0.19208398, 0.16233647, 0.16001686, 0.13637735,\n",
       "        0.13602852, 0.03906085]))"
      ]
     },
     "execution_count": 12,
     "metadata": {},
     "output_type": "execute_result"
    }
   ],
   "source": [
    "fpr,tpr,thresholds"
   ]
  },
  {
   "cell_type": "code",
   "execution_count": 13,
   "metadata": {},
   "outputs": [
    {
     "data": {
      "text/plain": [
       "array([0, 0, 0, 0, 0, 0, 0, 1, 1, 0, 0, 1, 1, 1, 0, 0, 0, 0, 1, 0, 1, 0,\n",
       "       0, 0, 1, 1, 0, 0, 0, 0, 1, 1, 0, 1, 1, 1, 1, 1, 0, 1, 0, 0, 1, 1,\n",
       "       0, 1, 1, 0, 0, 1, 0, 1, 0, 0, 0, 0, 0, 0, 0, 1, 0, 0, 0, 0, 0, 1,\n",
       "       0, 1, 0, 1, 1, 0, 0, 0, 0, 1, 0, 0, 0, 0, 1, 1, 0, 1, 1, 1, 0, 1,\n",
       "       1, 0, 0, 0, 0, 0, 0, 0, 1, 0, 1, 0, 1, 0, 1, 0, 1, 0, 0, 1, 0, 1,\n",
       "       0, 1, 0, 1, 1, 1, 1, 0, 0, 0, 0, 0, 0, 0, 0, 0, 1, 0, 1, 1, 1, 1,\n",
       "       0, 0, 1, 1, 0, 1, 1, 0, 0, 0, 0, 0, 0, 0, 0, 0, 0, 1, 0, 1, 1, 0],\n",
       "      dtype=int64)"
      ]
     },
     "execution_count": 13,
     "metadata": {},
     "output_type": "execute_result"
    }
   ],
   "source": [
    "from sklearn.tree import DecisionTreeClassifier\n",
    "\n",
    "dtc=DecisionTreeClassifier(criterion=\"entropy\",splitter=\"best\",random_state=10)\n",
    "\n",
    "dtc.fit(X_train,y_train)\n",
    "\n",
    "dtc_pred=dtc.predict(X_test)\n",
    "\n",
    "dtc_pred"
   ]
  },
  {
   "cell_type": "code",
   "execution_count": 14,
   "metadata": {},
   "outputs": [
    {
     "data": {
      "text/plain": [
       "array([[76, 23],\n",
       "       [18, 37]], dtype=int64)"
      ]
     },
     "execution_count": 14,
     "metadata": {},
     "output_type": "execute_result"
    }
   ],
   "source": [
    "from sklearn.metrics import confusion_matrix,precision_score,recall_score,f1_score\n",
    "\n",
    "confusion_matrix(y_test,dtc_pred)"
   ]
  },
  {
   "cell_type": "code",
   "execution_count": 15,
   "metadata": {},
   "outputs": [
    {
     "name": "stdout",
     "output_type": "stream",
     "text": [
      "Precision-Score 0.6166666666666667\n",
      "Recall Score 0.6727272727272727\n",
      "F1-Score 0.6434782608695652\n"
     ]
    }
   ],
   "source": [
    "print('Precision-Score',precision_score(y_test,dtc_pred))\n",
    "print('Recall Score',recall_score(y_test,dtc_pred))\n",
    "print('F1-Score',f1_score(y_test,dtc_pred))"
   ]
  },
  {
   "cell_type": "code",
   "execution_count": 16,
   "metadata": {},
   "outputs": [
    {
     "data": {
      "text/plain": [
       "<matplotlib.legend.Legend at 0x14736d71d88>"
      ]
     },
     "execution_count": 16,
     "metadata": {},
     "output_type": "execute_result"
    },
    {
     "data": {
      "image/png": "[encoded data removed]",
      "text/plain": [
       "<Figure size 432x288 with 1 Axes>"
      ]
     },
     "metadata": {
      "needs_background": "light"
     },
     "output_type": "display_data"
    }
   ],
   "source": [
    "import matplotlib.pyplot as plt\n",
    "\n",
    "from sklearn.metrics import roc_curve,roc_auc_score\n",
    "\n",
    "dtc_probab=dtc.predict_proba(X_test)[::,1]\n",
    "\n",
    "fpr,tpr,thresholds=roc_curve(y_test,dtc_probab)\n",
    "\n",
    "\n",
    "dtc_auc = roc_auc_score(y_test, dtc_probab)\n",
    "\n",
    "plt.plot(fpr,tpr,label='auc='+str(auc))\n",
    "plt.xlabel('False Positive Rate')\n",
    "plt.ylabel('True Positive Rate')\n",
    "plt.title('AUC-ROC Curve For Decision Tree')\n",
    "\n",
    "plt.legend(loc=8)  "
   ]
  },
  {
   "cell_type": "code",
   "execution_count": 19,
   "metadata": {},
   "outputs": [],
   "source": [
    "from sklearn.cluster import KMeans\n",
    "\n",
    "inertias=[]\n",
    "\n",
    "for i in range(1,11):\n",
    "    km=KMeans(n_clusters=i)\n",
    "    km.fit(diabetes_df)\n",
    "    inertias.append(km.inertia_)"
   ]
  },
  {
   "cell_type": "code",
   "execution_count": 20,
   "metadata": {},
   "outputs": [
    {
     "data": {
      "text/plain": [
       "[11615812.918327227,\n",
       " 5142376.455984383,\n",
       " 2913322.58008178,\n",
       " 2150535.2887797765,\n",
       " 1737004.1690590864,\n",
       " 1466807.6543065677,\n",
       " 1303501.2696337057,\n",
       " 1146667.0131488135,\n",
       " 1001772.5251423423,\n",
       " 932768.0220705338]"
      ]
     },
     "execution_count": 20,
     "metadata": {},
     "output_type": "execute_result"
    }
   ],
   "source": [
    "inertias"
   ]
  },
  {
   "cell_type": "code",
   "execution_count": 21,
   "metadata": {},
   "outputs": [
    {
     "data": {
      "image/png": "[encoded data removed]",
      "text/plain": [
       "<Figure size 432x288 with 1 Axes>"
      ]
     },
     "metadata": {
      "needs_background": "light"
     },
     "output_type": "display_data"
    }
   ],
   "source": [
    "import matplotlib.pyplot as plt \n",
    "\n",
    "plt.plot(range(1,11),inertias)\n",
    "\n",
    "plt.show()"
   ]
  },
  {
   "cell_type": "code",
   "execution_count": 22,
   "metadata": {},
   "outputs": [
    {
     "data": {
      "text/plain": [
       "array([0, 0, 0, 4, 1, 0, 4, 0, 2, 0, 0, 0, 0, 2, 1, 0, 1, 0, 4, 4, 1, 0,\n",
       "       0, 0, 1, 4, 0, 1, 4, 0, 0, 3, 4, 0, 0, 1, 0, 0, 0, 1, 4, 0, 0, 3,\n",
       "       0, 0, 0, 0, 0, 0, 4, 0, 0, 3, 3, 0, 3, 4, 0, 1, 0, 0, 0, 1, 0, 0,\n",
       "       0, 0, 4, 4, 4, 1, 0, 3, 0, 0, 0, 0, 0, 0, 0, 0, 4, 0, 0, 4, 0, 4,\n",
       "       4, 0, 0, 1, 4, 0, 4, 1, 0, 4, 4, 1, 0, 0, 0, 4, 0, 1, 0, 1, 0, 4,\n",
       "       1, 2, 4, 0, 1, 0, 0, 0, 0, 4, 4, 0, 4, 0, 0, 4, 1, 4, 1, 0, 1, 0,\n",
       "       1, 0, 4, 1, 4, 4, 0, 3, 0, 0, 4, 0, 3, 0, 0, 4, 0, 0, 1, 0, 1, 2,\n",
       "       0, 0, 4, 1, 4, 1, 0, 4, 3, 0, 0, 1, 0, 0, 0, 4, 0, 1, 0, 4, 4, 1,\n",
       "       0, 1, 0, 0, 0, 4, 4, 0, 0, 0, 2, 4, 4, 1, 0, 4, 0, 0, 0, 1, 0, 4,\n",
       "       4, 3, 0, 0, 0, 4, 1, 0, 3, 0, 4, 0, 0, 0, 0, 1, 1, 3, 1, 4, 0, 0,\n",
       "       2, 0, 0, 1, 4, 0, 0, 0, 2, 4, 0, 3, 4, 0, 4, 0, 1, 0, 0, 0, 0, 4,\n",
       "       0, 1, 1, 0, 0, 2, 3, 0, 0, 0, 4, 0, 3, 0, 0, 0, 3, 1, 1, 0, 0, 0,\n",
       "       0, 4, 0, 0, 0, 0, 0, 4, 0, 4, 0, 4, 0, 4, 0, 3, 0, 1, 1, 0, 0, 1,\n",
       "       2, 1, 4, 4, 4, 4, 1, 1, 0, 1, 3, 1, 1, 0, 0, 1, 4, 0, 0, 4, 1, 1,\n",
       "       1, 1, 0, 1, 4, 4, 0, 4, 4, 0, 1, 0, 1, 0, 0, 0, 0, 1, 1, 0, 4, 4,\n",
       "       0, 4, 0, 0, 4, 3, 0, 0, 1, 0, 4, 4, 0, 0, 0, 4, 4, 0, 4, 0, 0, 0,\n",
       "       0, 4, 0, 0, 1, 0, 4, 3, 3, 0, 0, 0, 3, 4, 0, 0, 4, 1, 2, 4, 4, 4,\n",
       "       1, 3, 4, 4, 0, 4, 4, 0, 1, 4, 4, 4, 0, 0, 3, 4, 1, 0, 3, 4, 0, 3,\n",
       "       4, 0, 0, 0, 0, 0, 4, 0, 0, 1, 0, 0, 0, 2, 0, 1, 3, 4, 1, 2, 0, 0,\n",
       "       0, 4, 1, 4, 4, 0, 1, 3, 0, 1, 1, 1, 0, 4, 4, 0, 0, 0, 0, 0, 0, 0,\n",
       "       0, 4, 4, 0, 0, 0, 4, 4, 4, 4, 4, 0, 1, 0, 4, 0, 0, 4, 3, 4, 4, 0,\n",
       "       4, 0, 0, 4, 4, 4, 0, 1, 0, 0, 0, 0, 0, 0, 1, 4, 4, 0, 3, 0, 4, 4,\n",
       "       0, 3, 2, 3, 0, 0, 4, 0, 0, 1, 0, 0, 0, 4, 1, 1, 4, 0, 0, 4, 0, 0,\n",
       "       4, 1, 4, 0, 0, 1, 0, 0, 4, 4, 1, 0, 0, 3, 4, 1, 0, 0, 0, 0, 4, 4,\n",
       "       1, 0, 4, 0, 4, 0, 4, 0, 0, 0, 1, 1, 1, 1, 0, 4, 4, 1, 1, 1, 4, 0,\n",
       "       0, 4, 0, 4, 4, 1, 0, 0, 0, 0, 0, 3, 4, 4, 0, 4, 0, 4, 1, 1, 0, 0,\n",
       "       4, 4, 3, 4, 1, 0, 0, 0, 0, 0, 0, 0, 2, 0, 0, 0, 1, 0, 0, 1, 0, 4,\n",
       "       1, 1, 0, 0, 0, 4, 0, 0, 0, 1, 0, 0, 3, 4, 3, 1, 1, 1, 3, 0, 1, 0,\n",
       "       0, 0, 0, 0, 1, 0, 0, 4, 0, 4, 0, 0, 0, 0, 0, 4, 0, 1, 0, 0, 0, 4,\n",
       "       4, 4, 4, 0, 0, 0, 1, 2, 1, 1, 1, 0, 4, 4, 4, 0, 1, 2, 4, 1, 0, 4,\n",
       "       0, 0, 1, 1, 0, 1, 0, 0, 1, 4, 1, 0, 4, 3, 0, 0, 0, 0, 0, 3, 4, 0,\n",
       "       4, 0, 0, 1, 0, 0, 1, 1, 0, 0, 4, 1, 0, 2, 1, 0, 1, 0, 1, 0, 0, 0,\n",
       "       4, 0, 0, 3, 0, 1, 3, 0, 0, 3, 0, 3, 1, 0, 1, 0, 0, 1, 1, 4, 0, 0,\n",
       "       1, 0, 0, 0, 4, 0, 1, 1, 0, 0, 4, 0, 1, 0, 1, 4, 4, 0, 1, 4, 0, 4,\n",
       "       1, 0, 0, 4, 0, 2, 0, 4, 0, 0, 0, 0, 0, 0, 0, 1, 0, 4, 0, 0])"
      ]
     },
     "execution_count": 22,
     "metadata": {},
     "output_type": "execute_result"
    }
   ],
   "source": [
    "km1=KMeans(n_clusters=5)\n",
    "\n",
    "km1.fit(diabetes_df)\n",
    "\n",
    "km1.labels_ # 0-->Cluster 1 , Cluster 2 -->1"
   ]
  }
 ],
 "metadata": {
  "kernelspec": {
   "display_name": "Python 3",
   "language": "python",
   "name": "python3"
  },
  "language_info": {
   "codemirror_mode": {
    "name": "ipython",
    "version": 3
   },
   "file_extension": ".py",
   "mimetype": "text/x-python",
   "name": "python",
   "nbconvert_exporter": "python",
   "pygments_lexer": "ipython3",
   "version": "3.7.4"
  }
 },
 "nbformat": 4,
 "nbformat_minor": 2
}
